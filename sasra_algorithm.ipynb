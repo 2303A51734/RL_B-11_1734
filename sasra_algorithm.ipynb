{
  "nbformat": 4,
  "nbformat_minor": 0,
  "metadata": {
    "colab": {
      "provenance": [],
      "authorship_tag": "ABX9TyPmUZAn7GQSrVg5DvxxrM3P",
      "include_colab_link": true
    },
    "kernelspec": {
      "name": "python3",
      "display_name": "Python 3"
    },
    "language_info": {
      "name": "python"
    }
  },
  "cells": [
    {
      "cell_type": "markdown",
      "metadata": {
        "id": "view-in-github",
        "colab_type": "text"
      },
      "source": [
        "<a href=\"https://colab.research.google.com/github/2303A51734/RL_B-11_1734/blob/main/sasra_algorithm.ipynb\" target=\"_parent\"><img src=\"https://colab.research.google.com/assets/colab-badge.svg\" alt=\"Open In Colab\"/></a>"
      ]
    },
    {
      "cell_type": "code",
      "execution_count": 1,
      "metadata": {
        "id": "T0agSqiT01on"
      },
      "outputs": [],
      "source": [
        "import numpy as np\n",
        "import random\n",
        "\n",
        "class GridWorld:\n",
        "    def __init__(self, grid_size=4):\n",
        "        self.grid_size = grid_size\n",
        "        self.state = (0, 0)\n",
        "        self.terminal_state = (grid_size - 1, grid_size - 1)\n",
        "        self.actions = ['up', 'down', 'left', 'right']\n",
        "\n",
        "    def reset(self):\n",
        "        self.state = (0, 0)\n",
        "        return self.state\n",
        "\n",
        "    def step(self, action):\n",
        "        i, j = self.state\n",
        "        if self.state == self.terminal_state:\n",
        "            return self.state, 0, True\n",
        "\n",
        "        if action == 'up':\n",
        "            i = max(i - 1, 0)\n",
        "        elif action == 'down':\n",
        "            i = min(i + 1, self.grid_size - 1)\n",
        "        elif action == 'left':\n",
        "            j = max(j - 1, 0)\n",
        "        elif action == 'right':\n",
        "            j = min(j + 1, self.grid_size - 1)\n",
        "\n",
        "        self.state = (i, j)\n",
        "        reward = 0 if self.state == self.terminal_state else -1\n",
        "        done = self.state == self.terminal_state\n",
        "\n",
        "        return self.state, reward, done\n"
      ]
    },
    {
      "cell_type": "code",
      "source": [
        "def td_zero(env, episodes=500, alpha=0.1, gamma=1.0):\n",
        "    V = np.zeros((env.grid_size, env.grid_size))\n",
        "\n",
        "    for ep in range(episodes):\n",
        "        state = env.reset()\n",
        "        done = False\n",
        "\n",
        "        while not done:\n",
        "            action = random.choice(env.actions)\n",
        "            next_state, reward, done = env.step(action)\n",
        "            s = state\n",
        "            s_prime = next_state\n",
        "\n",
        "            V[s] += alpha * (reward + gamma * V[s_prime] - V[s])\n",
        "            state = next_state\n",
        "\n",
        "    return V\n"
      ],
      "metadata": {
        "id": "KHO9qUj_3EUb"
      },
      "execution_count": 2,
      "outputs": []
    },
    {
      "cell_type": "code",
      "source": [
        "def epsilon_greedy(Q, state, actions, epsilon):\n",
        "    if random.random() < epsilon:\n",
        "        return random.choice(actions)\n",
        "    else:\n",
        "        return actions[np.argmax([Q[state][a] for a in actions])]\n",
        "\n",
        "def sarsa(env, episodes=5000, alpha=0.1, gamma=0.99, epsilon=0.1):\n",
        "    Q = {}\n",
        "    for i in range(env.grid_size):\n",
        "        for j in range(env.grid_size):\n",
        "            Q[(i, j)] = {a: 0.0 for a in env.actions}\n",
        "\n",
        "    for ep in range(episodes):\n",
        "        state = env.reset()\n",
        "        action = epsilon_greedy(Q, state, env.actions, epsilon)\n",
        "        done = False\n",
        "\n",
        "        while not done:\n",
        "            next_state, reward, done = env.step(action)\n",
        "            next_action = epsilon_greedy(Q, next_state, env.actions, epsilon)\n",
        "\n",
        "            # Update Q(s, a)\n",
        "            Q[state][action] += alpha * (\n",
        "                reward + gamma * Q[next_state][next_action] - Q[state][action]\n",
        "            )\n",
        "\n",
        "            state, action = next_state, next_action\n",
        "\n",
        "    return Q\n"
      ],
      "metadata": {
        "id": "X1ttf0oh3F0C"
      },
      "execution_count": 3,
      "outputs": []
    },
    {
      "cell_type": "code",
      "source": [
        "def extract_policy(Q, env):\n",
        "    policy = {}\n",
        "    for state in Q:\n",
        "        best_action = max(Q[state], key=Q[state].get)\n",
        "        policy[state] = best_action\n",
        "    return policy\n"
      ],
      "metadata": {
        "id": "oykok_kh3JKp"
      },
      "execution_count": 4,
      "outputs": []
    },
    {
      "cell_type": "code",
      "source": [
        "env = GridWorld(grid_size=4)\n",
        "\n",
        "# TD(0)\n",
        "V = td_zero(env, episodes=500)\n",
        "print(\"State-value function from TD(0):\")\n",
        "print(np.round(V, 2))\n",
        "\n",
        "# SARSA\n",
        "Q = sarsa(env, episodes=5000)\n",
        "policy = extract_policy(Q, env)\n",
        "print(\"Learned policy from SARSA:\")\n",
        "for i in range(env.grid_size):\n",
        "    print([policy[(i, j)] for j in range(env.grid_size)])\n"
      ],
      "metadata": {
        "colab": {
          "base_uri": "https://localhost:8080/"
        },
        "id": "W4vFaJa-3QDh",
        "outputId": "5231b785-a549-42df-deee-e3b964d5649f"
      },
      "execution_count": 5,
      "outputs": [
        {
          "output_type": "stream",
          "name": "stdout",
          "text": [
            "State-value function from TD(0):\n",
            "[[-55.59 -53.23 -50.88 -47.95]\n",
            " [-53.78 -52.07 -47.68 -41.  ]\n",
            " [-51.46 -48.65 -44.67 -28.54]\n",
            " [-50.38 -44.55 -38.44   0.  ]]\n",
            "Learned policy from SARSA:\n",
            "['down', 'right', 'down', 'down']\n",
            "['right', 'right', 'down', 'down']\n",
            "['right', 'right', 'right', 'down']\n",
            "['right', 'right', 'right', 'up']\n"
          ]
        }
      ]
    }
  ]
}