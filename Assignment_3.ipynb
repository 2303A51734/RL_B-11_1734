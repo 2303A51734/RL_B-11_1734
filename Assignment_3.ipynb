{
  "nbformat": 4,
  "nbformat_minor": 0,
  "metadata": {
    "colab": {
      "provenance": [],
      "authorship_tag": "ABX9TyPIJVhVnNYw8Jwh5aXGyXe3",
      "include_colab_link": true
    },
    "kernelspec": {
      "name": "python3",
      "display_name": "Python 3"
    },
    "language_info": {
      "name": "python"
    }
  },
  "cells": [
    {
      "cell_type": "markdown",
      "metadata": {
        "id": "view-in-github",
        "colab_type": "text"
      },
      "source": [
        "<a href=\"https://colab.research.google.com/github/2303A51734/RL_B-11_1734/blob/main/Assignment_3.ipynb\" target=\"_parent\"><img src=\"https://colab.research.google.com/assets/colab-badge.svg\" alt=\"Open In Colab\"/></a>"
      ]
    },
    {
      "cell_type": "code",
      "source": [
        "import numpy as np\n",
        "\n",
        "# Define MDP components\n",
        "\n",
        "# States: (solar_available, demand_level)\n",
        "states = [\n",
        "    (\"High\", \"Low\"),\n",
        "    (\"High\", \"High\"),\n",
        "    (\"Low\", \"Low\"),\n",
        "    (\"Low\", \"High\")\n",
        "]\n",
        "\n",
        "# Actions\n",
        "# 0 = Use solar only\n",
        "# 1 = Use solar + generator\n",
        "actions = [0, 1]\n",
        "\n",
        "# Transition Probabilities P(s'|s,a)\n",
        "# For simplicity, assume solar availability is stochastic and demand remains constant\n",
        "transition_probabilities = {\n",
        "    (\"High\", \"Low\"): {\n",
        "        0: {(\"High\", \"Low\"): 0.7, (\"Low\", \"Low\"): 0.3},\n",
        "        1: {(\"High\", \"Low\"): 0.7, (\"Low\", \"Low\"): 0.3}\n",
        "    },\n",
        "    (\"High\", \"High\"): {\n",
        "        0: {(\"High\", \"High\"): 0.6, (\"Low\", \"High\"): 0.4},\n",
        "        1: {(\"High\", \"High\"): 0.6, (\"Low\", \"High\"): 0.4}\n",
        "    },\n",
        "    (\"Low\", \"Low\"): {\n",
        "        0: {(\"Low\", \"Low\"): 0.8, (\"High\", \"Low\"): 0.2},\n",
        "        1: {(\"Low\", \"Low\"): 0.8, (\"High\", \"Low\"): 0.2}\n",
        "    },\n",
        "    (\"Low\", \"High\"): {\n",
        "        0: {(\"Low\", \"High\"): 0.9, (\"High\", \"High\"): 0.1},\n",
        "        1: {(\"Low\", \"High\"): 0.9, (\"High\", \"High\"): 0.1}\n",
        "    },\n",
        "}\n",
        "\n",
        "# Reward function R(s,a,s')\n",
        "def reward(s, a, s_prime):\n",
        "    solar, demand = s\n",
        "    if a == 0:\n",
        "        # Using solar only\n",
        "        if solar == \"High\" and demand == \"Low\":\n",
        "            return 10  # Demand met with solar\n",
        "        elif solar == \"High\" and demand == \"High\":\n",
        "            return 10  # Assume solar meets demand\n",
        "        elif solar == \"Low\" and demand == \"Low\":\n",
        "            return 10  # Just enough\n",
        "        else:\n",
        "            return -5  # Demand not met\n",
        "    elif a == 1:\n",
        "        return 5  # Demand met using generator (higher cost)\n",
        "    return 0\n",
        "\n",
        "# Discount factor\n",
        "gamma = 0.9\n",
        "\n",
        "# Example: compute expected value of taking action 0 in state (\"High\", \"High\")\n",
        "state = (\"High\", \"High\")\n",
        "action = 0\n",
        "\n",
        "def expected_value(state, action):\n",
        "    transitions = transition_probabilities[state][action]\n",
        "    value = 0\n",
        "    for s_prime, prob in transitions.items():\n",
        "        r = reward(state, action, s_prime)\n",
        "        value += prob * (r + gamma * 0)  # Assume future value is 0 for simplicity\n",
        "    return value\n",
        "\n",
        "print(f\"Expected value for state {state} and action {action}: {expected_value(state, action):.2f}\")\n"
      ],
      "metadata": {
        "colab": {
          "base_uri": "https://localhost:8080/"
        },
        "id": "eqyauIfh4aXQ",
        "outputId": "aa314fb5-69e5-40bf-d11e-9013ebc386ee"
      },
      "execution_count": 3,
      "outputs": [
        {
          "output_type": "stream",
          "name": "stdout",
          "text": [
            "Expected value for state ('High', 'High') and action 0: 10.00\n"
          ]
        }
      ]
    }
  ]
}